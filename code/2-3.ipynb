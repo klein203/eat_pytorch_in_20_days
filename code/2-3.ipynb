{
 "metadata": {
  "language_info": {
   "codemirror_mode": {
    "name": "ipython",
    "version": 3
   },
   "file_extension": ".py",
   "mimetype": "text/x-python",
   "name": "python",
   "nbconvert_exporter": "python",
   "pygments_lexer": "ipython3",
   "version": "3.8.5-final"
  },
  "orig_nbformat": 2,
  "kernelspec": {
   "name": "python3",
   "display_name": "Python 3.8.5 64-bit ('py38_cv': conda)",
   "metadata": {
    "interpreter": {
     "hash": "ba15a1d979e8ac337d80e71852c3e63572e72a2fa439e8c45e7ad782aa6c2900"
    }
   }
  }
 },
 "nbformat": 4,
 "nbformat_minor": 2,
 "cells": [
  {
   "cell_type": "code",
   "execution_count": null,
   "metadata": {},
   "outputs": [],
   "source": [
    "import torch\n",
    "w = torch.tensor([[3.0, 1.0]], requires_grad=True)\n",
    "b = torch.tensor([[3.0]], requires_grad=True)\n",
    "X = torch.randn(10, 2)\n",
    "Y = torch.randn(10, 1)\n",
    "Y_hat = X@w.t() + b\n",
    "loss = torch.mean(torch.pow(Y_hat - Y, 2))\n",
    "\n",
    "for i in range(20):\n",
    "    loss.backward(retain_graph=True)\n",
    "    print(w.grad, b.grad)"
   ]
  },
  {
   "cell_type": "code",
   "execution_count": null,
   "metadata": {},
   "outputs": [],
   "source": [
    "import torch\n",
    "from torch.optim import Adam\n",
    "\n",
    "x = torch.tensor(3.0, requires_grad=True)\n",
    "y1 = x + 1\n",
    "y2 = 2 * x\n",
    "loss = (y1 - y2) ** 2\n",
    "\n",
    "# loss.backward(retain_graph=True)\n",
    "\n",
    "# print(\"x.grad:\", x.grad)\n",
    "# loss.grad\n",
    "# loss.backward()\n",
    "# print(\"x.grad:\", x.grad)\n",
    "\n",
    "y1.register_hook(lambda grad: print('hook y1 grad: ', grad))\n",
    "y2.register_hook(lambda grad: print('hook y2 grad: ', grad))\n",
    "loss.register_hook(lambda grad: print('hook loss grad: ', grad))\n",
    "\n",
    "optim = Adam([x], 0.01)\n",
    "optim.zero_grad()\n",
    "loss.backward()\n",
    "optim.step()\n",
    "\n",
    "print(\"x.grad\", x.grad)"
   ]
  },
  {
   "cell_type": "code",
   "execution_count": null,
   "metadata": {},
   "outputs": [],
   "source": [
    "import torch\n",
    "from torch import nn\n",
    "from torch.utils.tensorboard import SummaryWriter\n",
    "\n",
    "\n",
    "class Net(nn.Module):\n",
    "    def __init__(self):\n",
    "        super(Net, self).__init__()\n",
    "        self.w = nn.Parameter(torch.randn(2, 1))\n",
    "        self.b = nn.Parameter(torch.zeros(1, 1))\n",
    "\n",
    "    def forward(self, x):\n",
    "        y = x@self.w + self.b\n",
    "        return y\n",
    "\n",
    "net = Net()\n",
    "\n",
    "writer = SummaryWriter('../data/tensorboard')\n",
    "writer.add_graph(net, input_to_model = torch.rand(10, 2))\n",
    "writer.close()"
   ]
  }
 ]
}