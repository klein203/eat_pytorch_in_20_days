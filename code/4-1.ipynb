{
 "metadata": {
  "language_info": {
   "codemirror_mode": {
    "name": "ipython",
    "version": 3
   },
   "file_extension": ".py",
   "mimetype": "text/x-python",
   "name": "python",
   "nbconvert_exporter": "python",
   "pygments_lexer": "ipython3",
   "version": "3.8.5-final"
  },
  "orig_nbformat": 2,
  "kernelspec": {
   "name": "python3",
   "display_name": "Python 3"
  }
 },
 "nbformat": 4,
 "nbformat_minor": 2,
 "cells": [
  {
   "cell_type": "code",
   "execution_count": 2,
   "metadata": {},
   "outputs": [
    {
     "output_type": "execute_result",
     "data": {
      "text/plain": [
       "tensor([ 1.,  2.,  3.,  4.,  5.,  6.,  7.,  8.,  9., 10.])"
      ]
     },
     "metadata": {},
     "execution_count": 2
    }
   ],
   "source": [
    "import torch\n",
    "\n",
    "torch.linspace(1, 10, 10)"
   ]
  },
  {
   "cell_type": "code",
   "execution_count": 5,
   "metadata": {},
   "outputs": [
    {
     "output_type": "execute_result",
     "data": {
      "text/plain": [
       "tensor([ 1,  2,  3,  4,  5,  6,  7,  8,  9, 10])"
      ]
     },
     "metadata": {},
     "execution_count": 5
    }
   ],
   "source": [
    "torch.arange(1, 11, 1)"
   ]
  },
  {
   "cell_type": "code",
   "execution_count": 15,
   "metadata": {},
   "outputs": [
    {
     "output_type": "stream",
     "text": [
      "\u001b[1;31mDocstring:\u001b[0m\n",
      "index_select(input, dim, index, *, out=None) -> Tensor\n",
      "\n",
      "Returns a new tensor which indexes the :attr:`input` tensor along dimension\n",
      ":attr:`dim` using the entries in :attr:`index` which is a `LongTensor`.\n",
      "\n",
      "The returned tensor has the same number of dimensions as the original tensor\n",
      "(:attr:`input`).  The :attr:`dim`\\ th dimension has the same size as the length\n",
      "of :attr:`index`; other dimensions have the same size as in the original tensor.\n",
      "\n",
      ".. note:: The returned tensor does **not** use the same storage as the original\n",
      "          tensor.  If :attr:`out` has a different shape than expected, we\n",
      "          silently change it to the correct shape, reallocating the underlying\n",
      "          storage if necessary.\n",
      "\n",
      "Args:\n",
      "    input (Tensor): the input tensor.\n",
      "    dim (int): the dimension in which we index\n",
      "    index (LongTensor): the 1-D tensor containing the indices to index\n",
      "\n",
      "Keyword args:\n",
      "    out (Tensor, optional): the output tensor.\n",
      "\n",
      "Example::\n",
      "\n",
      "    >>> x = torch.randn(3, 4)\n",
      "    >>> x\n",
      "    tensor([[ 0.1427,  0.0231, -0.5414, -1.0009],\n",
      "            [-0.4664,  0.2647, -0.1228, -1.1068],\n",
      "            [-1.1734, -0.6571,  0.7230, -0.6004]])\n",
      "    >>> indices = torch.tensor([0, 2])\n",
      "    >>> torch.index_select(x, 0, indices)\n",
      "    tensor([[ 0.1427,  0.0231, -0.5414, -1.0009],\n",
      "            [-1.1734, -0.6571,  0.7230, -0.6004]])\n",
      "    >>> torch.index_select(x, 1, indices)\n",
      "    tensor([[ 0.1427, -0.5414],\n",
      "            [-0.4664, -0.1228],\n",
      "            [-1.1734,  0.7230]])\n",
      "\u001b[1;31mType:\u001b[0m      builtin_function_or_method\n"
     ],
     "name": "stdout"
    }
   ],
   "source": [
    "torch.index_select?"
   ]
  }
 ]
}