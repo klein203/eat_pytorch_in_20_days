{
 "metadata": {
  "language_info": {
   "codemirror_mode": {
    "name": "ipython",
    "version": 3
   },
   "file_extension": ".py",
   "mimetype": "text/x-python",
   "name": "python",
   "nbconvert_exporter": "python",
   "pygments_lexer": "ipython3",
   "version": "3.8.5-final"
  },
  "orig_nbformat": 2,
  "kernelspec": {
   "name": "python3",
   "display_name": "Python 3.8.5 64-bit ('py38_cv': conda)",
   "metadata": {
    "interpreter": {
     "hash": "ba15a1d979e8ac337d80e71852c3e63572e72a2fa439e8c45e7ad782aa6c2900"
    }
   }
  }
 },
 "nbformat": 4,
 "nbformat_minor": 2,
 "cells": [
  {
   "cell_type": "code",
   "execution_count": null,
   "metadata": {},
   "outputs": [],
   "source": [
    "# tensor backward() 求导\n",
    "import numpy as np\n",
    "import torch\n",
    "\n",
    "# f(x) = a * x^2 + b * x + c的导数\n",
    "# dy_dx = 2 * a * x + b\n",
    "\n",
    "x = torch.tensor(0.0, requires_grad = True)\n",
    "a = torch.tensor(1.0)\n",
    "b = torch.tensor(-2.0)\n",
    "c = torch.tensor(1.0)\n",
    "y = a * torch.pow(x, 2) + b * x + c\n",
    "\n",
    "grad = torch.tensor(1)\n",
    "\n",
    "y.backward(gradient = grad)\n",
    "# y.backward()\n",
    "dy_dx = x.grad\n",
    "\n",
    "print(\"dy_dx =\", dy_dx)"
   ]
  },
  {
   "cell_type": "code",
   "execution_count": null,
   "metadata": {},
   "outputs": [],
   "source": [
    "import numpy as np\n",
    "import torch\n",
    "\n",
    "# f(x) = a*x**2 + b*x + c\n",
    "\n",
    "x_np = np.array([[0.0,0.0], [1.0,2.0]])\n",
    "x = torch.tensor(x_np, requires_grad = True)\n",
    "a = torch.tensor(1.0)\n",
    "b = torch.tensor(-2.0)\n",
    "c = torch.tensor(1.0)\n",
    "y = a * torch.pow(x, 2) + b * x + c\n",
    "\n",
    "print(\"x =\", x)\n",
    "print(\"y =\", y)\n",
    "\n",
    "grad = torch.ones((2, 2))\n",
    "\n",
    "y.backward(gradient = grad)\n",
    "dy_dx = x.grad\n",
    "\n",
    "print(\"dy_dx =\", dy_dx)"
   ]
  },
  {
   "cell_type": "code",
   "execution_count": null,
   "metadata": {},
   "outputs": [],
   "source": [
    "# torch.autograd.grad() 高阶求导\n",
    "import numpy as np\n",
    "import torch\n",
    "\n",
    "# f(x) = a*x**2 + b*x + c\n",
    "# dy_dx = 2*a*x + b\n",
    "# dy2_dx2 = 2*a\n",
    "# dy3_dx3 = 0\n",
    "\n",
    "x = torch.tensor(0.0,requires_grad = True) # x需要被求导\n",
    "a = torch.tensor(1.0)\n",
    "b = torch.tensor(-2.0)\n",
    "c = torch.tensor(1.0)\n",
    "y = a * torch.pow(x, 2) + b * x + c\n",
    "\n",
    "# create_graph = True，将允许创建更高阶的导数\n",
    "dy_dx = torch.autograd.grad(y, x, create_graph=True)[0]\n",
    "print(\"dy_dx =\", dy_dx.data)\n",
    "\n",
    "dy2_dx2 = torch.autograd.grad(dy_dx, x, create_graph=True)[0] \n",
    "print(\"dy2_dx2 =\", dy2_dx2.data)\n",
    "\n",
    "dy3_dx3 = torch.autograd.grad(dy2_dx2, x, create_graph=False)[0] \n",
    "print(\"dy3_dx3 =\", dy3_dx3.data)"
   ]
  },
  {
   "cell_type": "code",
   "execution_count": null,
   "metadata": {
    "tags": [
     "outputPrepend"
    ]
   },
   "outputs": [],
   "source": [
    "# torch.optim.<optimizer> 优化器自动微分求最小值\n",
    "import numpy as np\n",
    "import torch\n",
    "\n",
    "# f(x) = a * x^2 + b * x + c\n",
    "\n",
    "x = torch.tensor(0.0, requires_grad = True)\n",
    "a = torch.tensor(1.0)\n",
    "b = torch.tensor(-2.0)\n",
    "c = torch.tensor(1.0)\n",
    "\n",
    "def f(x):\n",
    "    return a * torch.pow(x, 2) + b * x + c\n",
    "\n",
    "optim = torch.optim.SGD(params = [x], lr = 0.01)\n",
    "for step in range(500):\n",
    "    optim.zero_grad()\n",
    "    y = f(x)\n",
    "    y.backward()\n",
    "    \n",
    "    optim.step()\n",
    "    print(\"y =\", f(x).data, \" x =\", x.data)\n",
    "\n",
    "print(\"--------------------------\")\n",
    "print(\"y =\", f(x).data, \" x =\", x.data)"
   ]
  }
 ]
}