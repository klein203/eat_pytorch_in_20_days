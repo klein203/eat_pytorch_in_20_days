{
 "metadata": {
  "language_info": {
   "codemirror_mode": {
    "name": "ipython",
    "version": 3
   },
   "file_extension": ".py",
   "mimetype": "text/x-python",
   "name": "python",
   "nbconvert_exporter": "python",
   "pygments_lexer": "ipython3",
   "version": "3.8.5-final"
  },
  "orig_nbformat": 2,
  "kernelspec": {
   "name": "python3",
   "display_name": "Python 3.8.5 64-bit ('py38_cv': conda)",
   "metadata": {
    "interpreter": {
     "hash": "ba15a1d979e8ac337d80e71852c3e63572e72a2fa439e8c45e7ad782aa6c2900"
    }
   }
  }
 },
 "nbformat": 4,
 "nbformat_minor": 2,
 "cells": [
  {
   "cell_type": "code",
   "execution_count": null,
   "metadata": {},
   "outputs": [],
   "source": [
    "import os\n",
    "import datetime\n",
    "\n",
    "#打印时间\n",
    "def printbar():\n",
    "    nowtime = datetime.datetime.now().strftime('%Y-%m-%d %H:%M:%S')\n",
    "    print(\"\\n\"+\"==========\"*8 + \"%s\"%nowtime)\n",
    "\n",
    "#mac系统上pytorch和matplotlib在jupyter中同时跑需要更改环境变量\n",
    "os.environ[\"KMP_DUPLICATE_LIB_OK\"]=\"TRUE\" "
   ]
  },
  {
   "cell_type": "code",
   "execution_count": null,
   "metadata": {},
   "outputs": [],
   "source": [
    "import numpy as np\n",
    "import pandas as pd\n",
    "from matplotlib import pyplot as plt \n",
    "import torch\n",
    "from torch import nn\n",
    "import torch.nn.functional as F\n",
    "from torch.utils.data import Dataset, DataLoader, TensorDataset\n",
    "\n",
    "#样本数量\n",
    "n = 400\n",
    "\n",
    "# 生成测试用数据集\n",
    "X = 10 * torch.rand((n, 2)) - 5.0\n",
    "w0 = torch.tensor([[2.0], [-3.0]])\n",
    "b0 = torch.tensor([[10.0]])\n",
    "Y = X@w0 + b0 + torch.normal(0.0, 2.0, size=(n, 1))"
   ]
  },
  {
   "cell_type": "code",
   "execution_count": null,
   "metadata": {},
   "outputs": [],
   "source": [
    "%matplotlib inline\n",
    "%config InlineBackend.figure_format = 'svg'\n",
    "\n",
    "plt.figure(figsize=(12, 5))\n",
    "ax1 = plt.subplot(121)\n",
    "ax1.scatter(X[:, 0].numpy(), Y[:, 0].numpy(), c=\"b\", label=\"samples\")\n",
    "ax1.legend()\n",
    "plt.xlabel(\"x1\")\n",
    "plt.ylabel(\"y\", rotation=0)\n",
    "\n",
    "ax2 = plt.subplot(122)\n",
    "ax2.scatter(X[:, 1].numpy(), Y[:, 0].numpy(), c=\"g\", label=\"samples\")\n",
    "ax2.legend()\n",
    "plt.xlabel(\"x2\")\n",
    "plt.ylabel(\"y\", rotation=0)\n",
    "\n",
    "plt.show()"
   ]
  },
  {
   "cell_type": "code",
   "execution_count": null,
   "metadata": {},
   "outputs": [],
   "source": [
    "ds = TensorDataset(X, Y)\n",
    "ds_train, ds_valid = torch.utils.data.random_split(ds, [int(n * 0.7), n - int(n * 0.7)])\n",
    "dl_train = DataLoader(ds_train, batch_size=10, shuffle=True)\n",
    "dl_valid = DataLoader(ds_valid, batch_size=10)"
   ]
  },
  {
   "cell_type": "code",
   "execution_count": null,
   "metadata": {},
   "outputs": [],
   "source": [
    "import torchkeras\n",
    "from torchkeras import Model\n",
    "\n",
    "class LinearRegression(Model):\n",
    "    def __init__(self):\n",
    "        super(LinearRegression, self).__init__()\n",
    "        self.fc = nn.Linear(2, 1)\n",
    "    \n",
    "    def forward(self, x):\n",
    "        return self.fc(x)\n",
    "\n",
    "model = LinearRegression()"
   ]
  },
  {
   "cell_type": "code",
   "execution_count": null,
   "metadata": {},
   "outputs": [],
   "source": [
    "model.summary(input_shape=(2,))"
   ]
  },
  {
   "cell_type": "code",
   "execution_count": null,
   "metadata": {
    "tags": [
     "outputPrepend"
    ]
   },
   "outputs": [],
   "source": [
    "def mean_absolute_error(y_pred, y_true):\n",
    "    return torch.mean(torch.abs(y_pred - y_true))\n",
    "\n",
    "def mean_absolute_percent_error(y_pred, y_true):\n",
    "    epsilon = 1e-7\n",
    "    return torch.mean((torch.abs(y_pred - y_true) + epsilon) / (torch.abs(y_true) + epsilon))\n",
    "\n",
    "model.compile(loss_func = nn.MSELoss(),\n",
    "              optimizer= torch.optim.Adam(model.parameters(), lr=0.01),\n",
    "              metrics_dict={\n",
    "                  \"mae\": mean_absolute_error,\n",
    "                  \"mape\": mean_absolute_percent_error\n",
    "                  })\n",
    "\n",
    "dfhistory = model.fit(200, dl_train=dl_train, dl_val=dl_valid, log_step_freq=20)"
   ]
  },
  {
   "cell_type": "code",
   "execution_count": null,
   "metadata": {},
   "outputs": [],
   "source": [
    "%matplotlib inline\n",
    "%config InlineBackend.figure_format = 'svg'\n",
    "\n",
    "w = model.state_dict()[\"fc.weight\"]\n",
    "b = model.state_dict()[\"fc.bias\"]\n",
    "\n",
    "fig, (ax1, ax2) = plt.subplots(nrows=1, ncols=2, figsize=(12, 5))\n",
    "ax1.scatter(X[:, 0], Y[:, 0], c=\"b\", label=\"samples\")\n",
    "ax1.plot(X[:, 0], w[0, 0] * X[:, 0] + b[0], \"-r\", linewidth=5.0, label=\"model\")\n",
    "ax1.legend()\n",
    "plt.xlabel(\"x1\")\n",
    "plt.ylabel(\"y\", rotation = 0)\n",
    "\n",
    "ax2.scatter(X[:, 1], Y[:, 0], c=\"g\", label=\"samples\")\n",
    "ax2.plot(X[:, 1], w[0, 1] * X[:, 1] + b[0], \"-r\", linewidth=5.0, label=\"model\")\n",
    "ax2.legend()\n",
    "plt.xlabel(\"x2\")\n",
    "plt.ylabel(\"y\", rotation = 0)\n",
    "\n",
    "plt.show()\n"
   ]
  },
  {
   "cell_type": "code",
   "execution_count": null,
   "metadata": {},
   "outputs": [],
   "source": [
    "dfhistory.tail()"
   ]
  },
  {
   "cell_type": "code",
   "execution_count": null,
   "metadata": {},
   "outputs": [],
   "source": [
    "%matplotlib inline\n",
    "%config InlineBackend.figure_format = 'svg'\n",
    "\n",
    "import matplotlib.pyplot as plt\n",
    "\n",
    "def plot_metric(dfhistory, metric):\n",
    "    train_metrics = dfhistory[metric]\n",
    "    val_metrics = dfhistory['val_' + metric]\n",
    "    epochs = range(1, len(train_metrics) + 1)\n",
    "    plt.plot(epochs, train_metrics, 'bo--')\n",
    "    plt.plot(epochs, val_metrics, 'ro-')\n",
    "\n",
    "    plt.title('Training and validation '+ metric)\n",
    "    plt.xlabel(\"Epochs\")\n",
    "    plt.ylabel(metric)\n",
    "    plt.legend(['train_' + metric, 'val_' + metric])\n",
    "    plt.show()"
   ]
  },
  {
   "cell_type": "code",
   "execution_count": null,
   "metadata": {},
   "outputs": [],
   "source": [
    "plot_metric(dfhistory, \"loss\")"
   ]
  },
  {
   "cell_type": "code",
   "execution_count": null,
   "metadata": {},
   "outputs": [],
   "source": [
    "plot_metric(dfhistory, \"mae\")"
   ]
  },
  {
   "cell_type": "code",
   "execution_count": null,
   "metadata": {},
   "outputs": [],
   "source": [
    "plot_metric(dfhistory, \"mape\")"
   ]
  },
  {
   "cell_type": "code",
   "execution_count": null,
   "metadata": {},
   "outputs": [],
   "source": [
    "model.evaluate(dl_valid)"
   ]
  },
  {
   "cell_type": "code",
   "execution_count": null,
   "metadata": {},
   "outputs": [],
   "source": [
    "dl = DataLoader(TensorDataset(X))\n",
    "model.predict(dl)[0:10]"
   ]
  },
  {
   "cell_type": "code",
   "execution_count": null,
   "metadata": {},
   "outputs": [],
   "source": [
    "# DNN\n",
    "import numpy as np \n",
    "import pandas as pd \n",
    "from matplotlib import pyplot as plt\n",
    "import torch\n",
    "from torch import nn\n",
    "import torch.nn.functional as F\n",
    "from torch.utils.data import Dataset, DataLoader, TensorDataset\n",
    "\n",
    "#正负样本数量\n",
    "n_positive, n_negative = 1000, 1000\n",
    "\n",
    "#生成正样本, 小圆环分布\n",
    "r_p = torch.normal(5.0, 1.0, size=[n_positive, 1])  # random r\n",
    "theta_p = 2 * np.pi * torch.rand([n_positive, 1])   # random theta\n",
    "Xp = torch.cat([r_p * torch.cos(theta_p), r_p * torch.sin(theta_p)], axis=1)\n",
    "Yp = torch.ones_like(r_p)\n",
    "\n",
    "#生成负样本, 大圆环分布\n",
    "r_n = torch.normal(8.0, 1.0, size=[n_negative, 1]) \n",
    "theta_n = 2 * np.pi * torch.rand([n_negative, 1])\n",
    "Xn = torch.cat([r_n * torch.cos(theta_n), r_n * torch.sin(theta_n)], axis=1)\n",
    "Yn = torch.zeros_like(r_n)\n",
    "\n",
    "#汇总样本\n",
    "X = torch.cat([Xp, Xn], axis=0)\n",
    "Y = torch.cat([Yp, Yn], axis=0)"
   ]
  },
  {
   "cell_type": "code",
   "execution_count": null,
   "metadata": {},
   "outputs": [],
   "source": [
    "%matplotlib inline\n",
    "%config InlineBackend.figure_format = 'svg'\n",
    "\n",
    "plt.figure(figsize=(6, 6))\n",
    "axe = plt.subplot(111)\n",
    "axe.scatter(Xp[:, 0].numpy(), Xp[:, 1].numpy(), c='r', label='positive')\n",
    "axe.scatter(Xn[:, 0].numpy(), Xn[:, 1].numpy(), c='g', label='negative')\n",
    "axe.legend()\n",
    "plt.show()"
   ]
  },
  {
   "cell_type": "code",
   "execution_count": null,
   "metadata": {},
   "outputs": [],
   "source": [
    "ds = TensorDataset(X, Y)\n",
    "nb_dl_train = int((n_positive + n_negative) * 0.7)\n",
    "nb_dl_valid = (n_positive + n_negative) - nb_dl_train\n",
    "ds_train, ds_valid = torch.utils.data.random_split(ds, [nb_dl_train, nb_dl_valid])\n",
    "dl_train = DataLoader(ds_train, batch_size=10, shuffle=True)\n",
    "dl_valid = DataLoader(ds_valid, batch_size=10)"
   ]
  },
  {
   "cell_type": "code",
   "execution_count": null,
   "metadata": {},
   "outputs": [],
   "source": [
    "from torchkeras import Model\n",
    "\n",
    "class Net(nn.Module):\n",
    "    def __init__(self):\n",
    "        super(Net, self).__init__()\n",
    "        self.fc1 = nn.Linear(2, 4)\n",
    "        self.activation1 = nn.ReLU()\n",
    "        self.fc2 = nn.Linear(4, 8)\n",
    "        self.activation2 = nn.ReLU()\n",
    "        self.fc3 = nn.Linear(8, 1)\n",
    "        self.activation3 = nn.Sigmoid()\n",
    "\n",
    "    # 正向传播\n",
    "    def forward(self, x):\n",
    "        x = self.fc1(x)\n",
    "        x = self.activation1(x)\n",
    "        x = self.fc2(x)\n",
    "        x = self.activation2(x)\n",
    "        x = self.fc3(x)\n",
    "        x = self.activation3(x)\n",
    "        return x\n",
    "\n",
    "model = Model(Net())\n",
    "model.summary(input_shape =(2,))"
   ]
  },
  {
   "cell_type": "code",
   "execution_count": null,
   "metadata": {
    "tags": [
     "outputPrepend"
    ]
   },
   "outputs": [],
   "source": [
    "def accuracy(y_pred, y_true):\n",
    "    y_pred = torch.where(y_pred > 0.5, \\\n",
    "        torch.ones_like(y_pred, dtype=torch.float32), torch.zeros_like(y_pred, dtype=torch.float32))\n",
    "    acc = torch.mean(1 - torch.abs(y_true - y_pred))\n",
    "    return acc\n",
    "\n",
    "model.compile(loss_func=nn.BCELoss(), optimizer=torch.optim.Adam(model.parameters(), lr=0.01), \\\n",
    "    metrics_dict={\"accuracy\": accuracy})\n",
    "\n",
    "dfhistory = model.fit(100, dl_train=dl_train, dl_val=dl_valid, log_step_freq=10)"
   ]
  },
  {
   "cell_type": "code",
   "execution_count": null,
   "metadata": {},
   "outputs": [],
   "source": [
    "dfhistory.tail()"
   ]
  },
  {
   "cell_type": "code",
   "execution_count": null,
   "metadata": {},
   "outputs": [],
   "source": [
    "# 结果可视化\n",
    "fig, (ax1, ax2) = plt.subplots(nrows=1, ncols=2, figsize=(12, 5))\n",
    "\n",
    "ax1.scatter(Xp[:, 0], Xp[:, 1], c=\"r\", label=\"positive\")\n",
    "ax1.scatter(Xn[:, 0], Xn[:, 1], c=\"g\", label=\"negative\")\n",
    "ax1.legend()\n",
    "ax1.set_title(\"y_true\")\n",
    "\n",
    "Xp_pred = X[torch.squeeze(model.forward(X) >= 0.5)]\n",
    "Xn_pred = X[torch.squeeze(model.forward(X) < 0.5)]\n",
    "\n",
    "ax2.scatter(Xp_pred[:, 0], Xp_pred[:, 1], c=\"r\", label=\"positive\")\n",
    "ax2.scatter(Xn_pred[:, 0], Xn_pred[:, 1], c=\"g\", label=\"negative\")\n",
    "ax2.legend()\n",
    "ax2.set_title(\"y_pred\")\n",
    "\n",
    "plt.show()"
   ]
  },
  {
   "cell_type": "code",
   "execution_count": null,
   "metadata": {},
   "outputs": [],
   "source": [
    "%matplotlib inline\n",
    "%config InlineBackend.figure_format = 'svg'\n",
    "\n",
    "import matplotlib.pyplot as plt\n",
    "\n",
    "def plot_metric(dfhistory, metric):\n",
    "    train_metrics = dfhistory[metric]\n",
    "    val_metrics = dfhistory['val_' + metric]\n",
    "    epochs = range(1, len(train_metrics) + 1)\n",
    "    plt.plot(epochs, train_metrics, 'bo--')\n",
    "    plt.plot(epochs, val_metrics, 'ro-')\n",
    "    plt.title('Training and validation '+ metric)\n",
    "    plt.xlabel(\"Epochs\")\n",
    "    plt.ylabel(metric)\n",
    "    plt.legend(['train_' + metric, 'val_' + metric])\n",
    "    plt.show()"
   ]
  },
  {
   "cell_type": "code",
   "execution_count": null,
   "metadata": {},
   "outputs": [],
   "source": [
    "plot_metric(dfhistory, 'loss')"
   ]
  },
  {
   "cell_type": "code",
   "execution_count": null,
   "metadata": {},
   "outputs": [],
   "source": [
    "plot_metric(dfhistory, 'accuracy')"
   ]
  },
  {
   "cell_type": "code",
   "execution_count": null,
   "metadata": {},
   "outputs": [],
   "source": [
    "model.evaluate(dl_valid)"
   ]
  },
  {
   "cell_type": "code",
   "execution_count": null,
   "metadata": {},
   "outputs": [],
   "source": [
    "model.predict(dl_valid)[0:10]"
   ]
  }
 ]
}